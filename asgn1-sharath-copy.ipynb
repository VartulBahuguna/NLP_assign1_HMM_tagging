{
 "cells": [
  {
   "cell_type": "code",
   "execution_count": 1,
   "metadata": {},
   "outputs": [],
   "source": [
    "import numpy as np\n",
    "import nltk\n",
    "import matplotlib.pyplot as plt"
   ]
  },
  {
   "cell_type": "code",
   "execution_count": 2,
   "metadata": {},
   "outputs": [
    {
     "name": "stderr",
     "output_type": "stream",
     "text": [
      "[nltk_data] Downloading package brown to\n",
      "[nltk_data]     C:\\Users\\VARTUL\\AppData\\Roaming\\nltk_data...\n",
      "[nltk_data]   Package brown is already up-to-date!\n",
      "[nltk_data] Downloading package universal_tagset to\n",
      "[nltk_data]     C:\\Users\\VARTUL\\AppData\\Roaming\\nltk_data...\n",
      "[nltk_data]   Package universal_tagset is already up-to-date!\n"
     ]
    }
   ],
   "source": [
    "nltk.download('brown')\n",
    "nltk.download('universal_tagset')\n",
    "\n",
    "from nltk.corpus import brown"
   ]
  },
  {
   "cell_type": "code",
   "execution_count": 3,
   "metadata": {},
   "outputs": [],
   "source": [
    "#add start and end tags:\n",
    "def add_start_end_tag(sentences_original):\n",
    "    sentences=[\"\"]*len(sentences_original)\n",
    "    for i in range(len(sentences_original)):\n",
    "        sentences[i]=[(\"<start>\",\"<start>\")]+sentences_original[i]+[(\"<end>\",\"<end>\")]\n",
    "    return sentences"
   ]
  },
  {
   "cell_type": "code",
   "execution_count": 4,
   "metadata": {},
   "outputs": [],
   "source": [
    "def remove_tags(sentence):\n",
    "    new_sentence=[]\n",
    "    for i in sentence:\n",
    "        new_sentence.append(i[0])\n",
    "\n",
    "    # print(new_sentence)\n",
    "\n",
    "    return new_sentence"
   ]
  },
  {
   "cell_type": "code",
   "execution_count": 5,
   "metadata": {},
   "outputs": [],
   "source": [
    "#splits data in k sets:\n",
    "def k_splits (k, data):\n",
    "    splits = {}\n",
    "    n = len(data)//k\n",
    "    for i in range(0, k):\n",
    "        i = int(i)\n",
    "        if(i+1 == k):\n",
    "            splits[i]= data[n*i : ]\n",
    "        else:\n",
    "            splits[i]=data[n*i : n*(i+1)]\n",
    "    return splits"
   ]
  },
  {
   "cell_type": "code",
   "execution_count": 6,
   "metadata": {},
   "outputs": [],
   "source": [
    "def precision(confusion_matrix):\n",
    "    precision = []\n",
    "    n = len(confusion_matrix)\n",
    "    for i in range(0,n):\n",
    "        sum = 0\n",
    "        for j in range(0,len(confusion_matrix[i])):\n",
    "            sum+=confusion_matrix[j][i]\n",
    "        precision.append(confusion_matrix[i][i]/sum)\n",
    "\n",
    "    return precision"
   ]
  },
  {
   "cell_type": "code",
   "execution_count": 7,
   "metadata": {},
   "outputs": [],
   "source": [
    "def recall(confusion_matrix):\n",
    "    recall = []\n",
    "    n = len(confusion_matrix)\n",
    "    for i in range(0,n):\n",
    "        sum = 0\n",
    "        for j in range(0,len(confusion_matrix[i])):\n",
    "            sum+=confusion_matrix[i][j]\n",
    "        recall.append(confusion_matrix[i][i]/sum)\n",
    "\n",
    "    return recall"
   ]
  },
  {
   "cell_type": "code",
   "execution_count": 8,
   "metadata": {},
   "outputs": [],
   "source": [
    "def accuracy_calculator (confusion_matrix):\n",
    "    actual=0\n",
    "    count=0\n",
    "    for i in range(0,len(confusion_matrix)):\n",
    "        actual+=confusion_matrix[i][i]\n",
    "        count+=sum(confusion_matrix[i])\n",
    "    return (actual/count)"
   ]
  },
  {
   "cell_type": "code",
   "execution_count": 9,
   "metadata": {},
   "outputs": [],
   "source": [
    "def heatmap(confusion_matrix):\n",
    "\n",
    "    # Example data\n",
    "    data = confusion_matrix/np.sum(confusion_matrix,axis=1)\n",
    "\n",
    "    # Create the heatmap\n",
    "    plt.imshow(data,  cmap='Spectral', interpolation='none')\n",
    "\n",
    "    # Add a colorbar\n",
    "    plt.colorbar()\n",
    "\n",
    "    # Add labels (optional)\n",
    "    plt.title('Heatmap Example')\n",
    "    plt.xlabel('X axis')\n",
    "    plt.ylabel('Y axis')\n",
    "    # Display the plot\n",
    "    return plt.show()\n"
   ]
  },
  {
   "cell_type": "code",
   "execution_count": 10,
   "metadata": {},
   "outputs": [],
   "source": [
    "class HMM_model:\n",
    "    def __init__(self):\n",
    "        self.confusion_matrix=None\n",
    "        self.transition_matrix=None\n",
    "        self.emission_matrix=None\n",
    "        self.tags_to_idx=None\n",
    "        self.count_of_each_tag=None\n",
    "        self.idx_to_tag=None\n",
    "        self.word_to_idx=None\n",
    "        self.idx_to_word=None\n",
    "    \n",
    "    def creat_tags_meta(self,sentences):\n",
    "        \n",
    "        #tag_to_idx: given a tag, what is its index : tags dict {\"tag\" : \"tag_index\"}\n",
    "        #idx_to_tag: given an index what is the tag : tags_reverse list of string\n",
    "        #count_of_each_tag: count of each tag\n",
    "        self.tag_to_idx={}\n",
    "        self.idx_to_tag=[]\n",
    "        cnt = 0\n",
    "        self.count_of_each_tag=[]\n",
    "        for i in range(len(sentences)):\n",
    "            for j in sentences[i]:\n",
    "                if j[1] not in self.tag_to_idx:\n",
    "                    self.tag_to_idx[j[1]] = cnt\n",
    "                    self.idx_to_tag.append(j[1])\n",
    "                    self.count_of_each_tag.append(0)\n",
    "                    cnt += 1\n",
    "                self.count_of_each_tag[self.tag_to_idx[j[1]]]+=1\n",
    "\n",
    "\n",
    "    def create_word_idx_translation(self,sentences):\n",
    "        #word to index number\n",
    "        #word_to_idx is word to index number\n",
    "        #idx_to_word\n",
    "        \n",
    "        idx = 0\n",
    "        self.word_to_idx={}\n",
    "        self.idx_to_word = []\n",
    "        # word_to_idx[\"<start>\"]=idx\n",
    "        for sentence in sentences:\n",
    "            for tup in sentence:\n",
    "                if tup[0] not in self.word_to_idx:\n",
    "                    \n",
    "                    self.word_to_idx[tup[0]]=idx\n",
    "                    idx += 1\n",
    "                    self.idx_to_word.append(tup[0])\n",
    "        self.word_to_idx[\"<unknown>\"]=idx\n",
    "        self.idx_to_word.append(\"<unknown>\")\n",
    "\n",
    "        # print('idx--------------------------------', idx)\n",
    "        # print('worddict--------------------------------', len(word_to_idx))\n",
    "\n",
    "\n",
    "    def create_transition_matrix(self,sentences):\n",
    "        #creating transition matrix\n",
    "        #bigram_matrix : count of every bigram tags\n",
    "        #transmission_matrix : probability of every bigram tags \n",
    "        self.bigram_matrix = []\n",
    "        self.transition_matrix = []\n",
    "        total_tags = len(self.count_of_each_tag)\n",
    "        for i in range(total_tags): \n",
    "            self.bigram_matrix.append([0]*total_tags)\n",
    "            self.transition_matrix.append([0]*total_tags)\n",
    "\n",
    "        #creating a bigram matrix\n",
    "        for sentence in sentences:\n",
    "            for j in range(len(sentence)-1):\n",
    "                self.bigram_matrix[self.tag_to_idx[sentence[j][1]]][self.tag_to_idx[sentence[j+1][1]]]+=1\n",
    "        # print(bigram_matrix)\n",
    "        \n",
    "        #create transition matrix A\n",
    "        for i in range(total_tags):\n",
    "            for j in range(total_tags):\n",
    "                self.transition_matrix[i][j]=(self.bigram_matrix[i][j]+1)/(self.count_of_each_tag[i] + len(self.count_of_each_tag))  #adding 1 to numerator and total unique tags in denominator for smoothing(Laplace)\n",
    "        # print(transition_matrix)\n",
    "\n",
    "\n",
    "    def create_emission_matrix(self,sentences):\n",
    "        #emission_matrix : given a word, what is the probability of tag\n",
    "        #emission_count_matrix : given a word, what is the count of each tag that it can have\n",
    "        # words = list(brown.words())\n",
    "        words_cnt = len(self.word_to_idx)\n",
    "        total_tags = len(self.tag_to_idx)\n",
    "        self.emission_matrix = []\n",
    "        \n",
    "        for i in range(words_cnt):\n",
    "            self.emission_matrix.append([0]*total_tags)\n",
    "        # print(\"--------------------------------------\",len(word_to_idx))\n",
    "        # print(\"------------------------\", len(emission_matrix))\n",
    "        # print(\"------------------------\", word_to_idx['<unknown>'])\n",
    "        \n",
    "        for sentence in sentences:\n",
    "            for j in sentence:\n",
    "                self.emission_matrix[self.word_to_idx[j[0]]][self.tag_to_idx[j[1]]]+=1\n",
    "\n",
    "        emission_count_matrix = self.emission_matrix\n",
    "\n",
    "        for i in range(words_cnt):\n",
    "            for j in range(total_tags):\n",
    "                self.emission_matrix[i][j] = (self.emission_matrix[i][j]+1)/(self.count_of_each_tag[j] + words_cnt)\n",
    "        # print(\"------------------------\", emission_matrix[word_to_idx['unknown'])\n",
    "\n",
    "        # handling missing case\n",
    "        aux=[0]*len(self.tag_to_idx.keys())\n",
    "        # print(tag_to_idx)\n",
    "        aux[self.tag_to_idx['NOUN']]=self.count_of_each_tag[self.tag_to_idx['NOUN']]/total_tags\n",
    "        aux[self.tag_to_idx['VERB']]=self.count_of_each_tag[self.tag_to_idx['VERB']]/total_tags\n",
    "        aux[self.tag_to_idx['ADV']]=self.count_of_each_tag[self.tag_to_idx['ADV']]/total_tags\n",
    "        aux[self.tag_to_idx['ADJ']]=self.count_of_each_tag[self.tag_to_idx['ADJ']]/total_tags\n",
    "        # print(aux)\n",
    "        self.emission_matrix[self.word_to_idx['<unknown>']]=aux\n",
    "\n",
    "\n",
    "    def build_confusion_matrix(self,actual,predicted):\n",
    "        #cm: confusion matrix\n",
    "        for i in range(len(actual)):\n",
    "            self.confusion_matrix[self.tag_to_idx[actual[i][1]]][self.tag_to_idx[predicted[i]]]+=1\n",
    "\n",
    "    def HMM_logic(self,input_sentence):\n",
    "        # print(tags_dict)\n",
    "        tags_output=[\"<start>\"]\n",
    "        last_prob = 1\n",
    "        viterbi=[]\n",
    "        for i in range(len(self.tag_to_idx)):\n",
    "            viterbi.append(([0])*len(input_sentence))\n",
    "        \n",
    "        viterbi[self.tag_to_idx[\"<start>\"]][0]=1\n",
    "        \n",
    "        for i in range(1, len(input_sentence)):\n",
    "            word_prob=0\n",
    "            tags=\"\"\n",
    "            curr_ob = input_sentence[i]\n",
    "            if curr_ob not in self.word_to_idx:\n",
    "                curr_ob=\"<unknown>\"\n",
    "            for curr_tag in self.tag_to_idx:\n",
    "                max_prob=0\n",
    "                for prev_tag in self.tag_to_idx:\n",
    "                    temp = self.transition_matrix[self.tag_to_idx[prev_tag]][self.tag_to_idx[curr_tag]]*self.emission_matrix[self.word_to_idx[curr_ob]][self.tag_to_idx[curr_tag]]*viterbi[self.tag_to_idx[prev_tag]][i-1]\n",
    "                    if temp>max_prob:\n",
    "                        max_prob=temp\n",
    "                viterbi[self.tag_to_idx[curr_tag]][i]=max_prob\n",
    "                if max_prob>word_prob:\n",
    "                    word_prob=max_prob\n",
    "                    tags=curr_tag\n",
    "            if tags=='':\n",
    "                tags='X'\n",
    "            tags_output.append(tags)\n",
    "\n",
    "        return tags_output  \n",
    "    \n",
    "\n",
    "\n",
    "\n",
    "    def train_model(self,sentences_original, k):\n",
    "\n",
    "        model=HMM_model()\n",
    "\n",
    "        sentences = add_start_end_tag(sentences_original)\n",
    "        \n",
    "        #spliting data into k splits\n",
    "        cross_validation_set=k_splits(k,sentences)\n",
    "        keys=list(cross_validation_set.keys())\n",
    "\n",
    "        #creating master meta data i.e. over whole corpus\n",
    "        self.creat_tags_meta(sentences)\n",
    "        self.create_word_idx_translation(sentences)\n",
    "        #instializing master transition, emission and confusion matrices\n",
    "        master_transition_matrix = []\n",
    "        master_emission_matrix = []\n",
    "        master_confusion_matrix = []\n",
    "\n",
    "        for i in range(len(self.count_of_each_tag)):\n",
    "            master_transition_matrix.append([0]*len(self.count_of_each_tag))\n",
    "            master_confusion_matrix.append([0]*len(self.count_of_each_tag))\n",
    "\n",
    "        for i in range(len(self.word_to_idx)):\n",
    "            master_emission_matrix.append([0]*len(self.count_of_each_tag))\n",
    "\n",
    "\n",
    "\n",
    "        #model building and traing on k sets\n",
    "        for i in keys:\n",
    "\n",
    "            #**********************------------------create test and train------------------************************************\n",
    "            train_data=[]\n",
    "            for j in cross_validation_set.keys():\n",
    "                if j!=i:\n",
    "                    train_data+=cross_validation_set[j]\n",
    "\n",
    "            test_data=cross_validation_set[i]\n",
    "            #**********************---------------------------------------************************************\n",
    "            \n",
    "\n",
    "            #**********************---------------create tags and words meta data------------------------************************************\n",
    "            model.creat_tags_meta(train_data)\n",
    "            model.create_word_idx_translation(train_data)\n",
    "            #**********************---------------------------------------************************************\n",
    "\n",
    "\n",
    "            #**********************---------------build transition and emission matrix------------------------************************************\n",
    "            \n",
    "            #bigram_matrix : count of every bigram tags\n",
    "            #transmission_matrix : probability of every bigram tags\n",
    "            #emission_count_matrix : given a word, what is the count of each tag that it can have\n",
    "            #emission_matrix : given a word, what is the probability of tag\n",
    "            model.create_transition_matrix(train_data)\n",
    "            model.create_emission_matrix(train_data)\n",
    "\n",
    "            #**********************---------------------------------------************************************\n",
    "            \n",
    "            #**********************---------------initialize confustion matrix------------------------************************************\n",
    "            #confusion_matrix : A matrix with rows having actual tag and columns showing predicted tag\n",
    "            model.confusion_matrix=[]\n",
    "            for j in range(len(model.count_of_each_tag)):\n",
    "                model.confusion_matrix.append([0]*len(model.count_of_each_tag))\n",
    "            #**********************---------------------------------------************************************\n",
    "\n",
    "\n",
    "            #**********************---------------bulding confustion matrix------------------------************************************\n",
    "            coun=0\n",
    "            for sen in test_data:\n",
    "                coun+=1\n",
    "                tags_output = model.HMM_logic(remove_tags(sen))\n",
    "                model.build_confusion_matrix(sen,tags_output)\n",
    "            #**********************---------------------------------------************************************\n",
    "\n",
    "            \n",
    "            \n",
    "\n",
    "\n",
    "            #**********************---------------build masters------------------------************************************\n",
    "            for i in range(len(model.count_of_each_tag)):\n",
    "                row = model.idx_to_tag[i]\n",
    "                for j in range(len(self.count_of_each_tag)):\n",
    "                    col = model.idx_to_tag[j]\n",
    "                    master_transition_matrix[self.tag_to_idx[row]][self.tag_to_idx[col]] += model.transition_matrix[i][j]\n",
    "                    master_confusion_matrix[self.tag_to_idx[row]][self.tag_to_idx[col]] += model.confusion_matrix[i][j]\n",
    "            \n",
    "            for i in range(len(model.word_to_idx)):\n",
    "                row = model.idx_to_word[i]\n",
    "                for j in range(len(self.count_of_each_tag)):\n",
    "                    col = model.idx_to_tag[j]\n",
    "                    master_emission_matrix[self.word_to_idx[row]][self.tag_to_idx[col]] += model.emission_matrix[i][j]\n",
    "            \n",
    "            #**********************---------------------------------------*******************************************\n",
    "                \n",
    "\n",
    "        self.confusion_matrix = np.array(master_confusion_matrix)/k\n",
    "        self.transition_matrix=np.array(master_transition_matrix)/k\n",
    "        self.emission_matrix=np.array(master_emission_matrix)/k\n",
    "\n",
    "\n",
    "    \n",
    "            \n",
    "\n"
   ]
  },
  {
   "cell_type": "code",
   "execution_count": 11,
   "metadata": {},
   "outputs": [],
   "source": [
    "#taking data from corpus\n",
    "sentences_original = brown.tagged_sents(tagset='universal')"
   ]
  },
  {
   "cell_type": "code",
   "execution_count": 88,
   "metadata": {},
   "outputs": [],
   "source": [
    "model = HMM_model()\n",
    "model.train_model(sentences_original, 5)"
   ]
  },
  {
   "cell_type": "code",
   "execution_count": 111,
   "metadata": {},
   "outputs": [],
   "source": [
    "import re\n",
    "with open('Twitter_chatGPT_tagged_sentences.txt', 'r') as file:\n",
    "    # Read all lines and store them in a list\n",
    "    lines = file.readlines()\n",
    "for i in range(len(lines)):\n",
    "    lines[i] = lines[i].replace('\\\\','')\n",
    "# lines[13] = lines[13].replace('\\\\','')\n",
    "lines[6] = lines[6].replace('â€™', '')\n",
    "lines[7] = lines[7].replace('â€™', '')\n",
    "twitter_data = []\n",
    "for string_data in lines:\n",
    "    # Original string with problematic characters\n",
    "    # string_data = \"[('<start>', '<start>'), ('Whoâ€™', 'X'), ('is', 'VERB'), ('predicted', 'VERB'), ('to', 'ADP'), ('remain', 'VERB'), ('in', 'ADP'), ('the', 'DET'), ('top', 'NOUN'), ('10', 'NUM'), ('of', 'ADP'), ('global', 'ADJ'), ('200', 'NUM'), ('so', 'ADV'), ('please', 'ADV'), ('letâ€™s', 'VERB'), ('get', 'VERB'), ('those', 'DET'), ('streams', 'NOUN'), ('back', 'ADV'), ('to', 'ADP'), ('keep', 'VERB'), ('it', 'PRON'), ('stable', 'ADJ'), ('cuz', 'X'), ('we', 'PRON'), ('dropped', 'VERB'), (',', '.'), ('focus', 'VERB'), ('on', 'ADP'), ('Apple', 'PROPN'), ('Music', 'PROPN'), ('as', 'ADP'), ('well', 'ADV'), ('<end>', '<end>')]\"\n",
    "\n",
    "    # Remove the outer brackets and split the string into individual tuples\n",
    "    tuple_strings = string_data[1:-1].split(\"), (\")\n",
    "\n",
    "    # List to store the parsed tuples\n",
    "    tuple_list = []\n",
    "\n",
    "    # Iterate through each tuple string\n",
    "    for tuple_str in tuple_strings:\n",
    "        # Remove any quotes and spaces\n",
    "        tuple_str = tuple_str.strip(\"()\")\n",
    "        # Split the tuple into its two elements\n",
    "        elements = re.split(r\",\\s*(?=['\\\"])\", tuple_str)  # Split on comma followed by space and quote\n",
    "        # Clean up each element and remove surrounding quotes\n",
    "        element_1 = elements[0].strip().strip(\"'\\\"\")\n",
    "        element_2 = elements[1].strip().strip(\"'\\\"\")\n",
    "        # Append as a tuple to the list\n",
    "        tuple_list.append((element_1, element_2))\n",
    "\n",
    "\n",
    "    # Output the result\n",
    "    # print(tuple_list)\n",
    "    data =  [t for t in tuple_list if t != ('', '')]\n",
    "    # print(data)\n",
    "    twitter_data.append(data)\n",
    "\n",
    "\n",
    "            \n"
   ]
  },
  {
   "cell_type": "code",
   "execution_count": 112,
   "metadata": {},
   "outputs": [],
   "source": [
    "predicted_data = []\n",
    "for sentence in twitter_data:\n",
    "    ls = []\n",
    "    sent = remove_tags(sentence)\n",
    "    predict = model.HMM_logic(sent)\n",
    "    # print(sentence)\n",
    "    for i in range(len(predict)):\n",
    "        # print(predict[i])\n",
    "        ls.append((sent[i], predict[i]))\n",
    "    predicted_data.append(ls)\n"
   ]
  },
  {
   "cell_type": "code",
   "execution_count": 119,
   "metadata": {},
   "outputs": [],
   "source": [
    "# predicted_data\n",
    "# twitter_data"
   ]
  },
  {
   "cell_type": "code",
   "execution_count": 120,
   "metadata": {},
   "outputs": [],
   "source": [
    "# Sample list\n",
    "# my_list = ['apple', 'banana', 'cherry']\n",
    "\n",
    "# Open a file in write mode\n",
    "with open('twitter_predicted_data.txt', 'w') as file:\n",
    "    for item in predicted_data:\n",
    "        file.write(f\"{item}\\n\")\n"
   ]
  },
  {
   "cell_type": "code",
   "execution_count": 72,
   "metadata": {},
   "outputs": [
    {
     "ename": "KeyboardInterrupt",
     "evalue": "",
     "output_type": "error",
     "traceback": [
      "\u001b[1;31m---------------------------------------------------------------------------\u001b[0m",
      "\u001b[1;31mKeyboardInterrupt\u001b[0m                         Traceback (most recent call last)",
      "Input \u001b[1;32mIn [72]\u001b[0m, in \u001b[0;36m<cell line: 2>\u001b[1;34m()\u001b[0m\n\u001b[0;32m      2\u001b[0m \u001b[38;5;28;01mfor\u001b[39;00m i \u001b[38;5;129;01min\u001b[39;00m \u001b[38;5;28mrange\u001b[39m(\u001b[38;5;241m2\u001b[39m,\u001b[38;5;241m11\u001b[39m):\n\u001b[0;32m      3\u001b[0m     model\u001b[38;5;241m=\u001b[39mHMM_model()\n\u001b[1;32m----> 4\u001b[0m     \u001b[43mmodel\u001b[49m\u001b[38;5;241;43m.\u001b[39;49m\u001b[43mtrain_model\u001b[49m\u001b[43m(\u001b[49m\u001b[43msentences_original\u001b[49m\u001b[43m,\u001b[49m\u001b[43m \u001b[49m\u001b[43mi\u001b[49m\u001b[43m)\u001b[49m\n\u001b[0;32m      5\u001b[0m     models\u001b[38;5;241m.\u001b[39mappend(model)\n\u001b[0;32m      6\u001b[0m     \u001b[38;5;28mprint\u001b[39m(\u001b[38;5;124m\"\u001b[39m\u001b[38;5;124mAccuracy of k = \u001b[39m\u001b[38;5;124m\"\u001b[39m, i,\u001b[38;5;124m\"\u001b[39m\u001b[38;5;124m is = \u001b[39m\u001b[38;5;124m\"\u001b[39m, accuracy_calculator(model\u001b[38;5;241m.\u001b[39mconfusion_matrix))\n",
      "Input \u001b[1;32mIn [10]\u001b[0m, in \u001b[0;36mHMM_model.train_model\u001b[1;34m(self, sentences_original, k)\u001b[0m\n\u001b[0;32m    221\u001b[0m \u001b[38;5;28;01mfor\u001b[39;00m sen \u001b[38;5;129;01min\u001b[39;00m test_data:\n\u001b[0;32m    222\u001b[0m     coun\u001b[38;5;241m+\u001b[39m\u001b[38;5;241m=\u001b[39m\u001b[38;5;241m1\u001b[39m\n\u001b[1;32m--> 223\u001b[0m     tags_output \u001b[38;5;241m=\u001b[39m \u001b[43mmodel\u001b[49m\u001b[38;5;241;43m.\u001b[39;49m\u001b[43mHMM_logic\u001b[49m\u001b[43m(\u001b[49m\u001b[43mremove_tags\u001b[49m\u001b[43m(\u001b[49m\u001b[43msen\u001b[49m\u001b[43m)\u001b[49m\u001b[43m)\u001b[49m\n\u001b[0;32m    224\u001b[0m     model\u001b[38;5;241m.\u001b[39mbuild_confusion_matrix(sen,tags_output)\n\u001b[0;32m    225\u001b[0m \u001b[38;5;66;03m#**********************---------------------------------------************************************\u001b[39;00m\n\u001b[0;32m    226\u001b[0m \n\u001b[0;32m    227\u001b[0m \n\u001b[1;32m   (...)\u001b[0m\n\u001b[0;32m    230\u001b[0m \n\u001b[0;32m    231\u001b[0m \u001b[38;5;66;03m#**********************---------------build masters------------------------************************************\u001b[39;00m\n",
      "Input \u001b[1;32mIn [10]\u001b[0m, in \u001b[0;36mHMM_model.HMM_logic\u001b[1;34m(self, input_sentence)\u001b[0m\n\u001b[0;32m    136\u001b[0m max_prob\u001b[38;5;241m=\u001b[39m\u001b[38;5;241m0\u001b[39m\n\u001b[0;32m    137\u001b[0m \u001b[38;5;28;01mfor\u001b[39;00m prev_tag \u001b[38;5;129;01min\u001b[39;00m \u001b[38;5;28mself\u001b[39m\u001b[38;5;241m.\u001b[39mtag_to_idx:\n\u001b[1;32m--> 138\u001b[0m     temp \u001b[38;5;241m=\u001b[39m \u001b[38;5;28mself\u001b[39m\u001b[38;5;241m.\u001b[39mtransition_matrix[\u001b[38;5;28mself\u001b[39m\u001b[38;5;241m.\u001b[39mtag_to_idx[prev_tag]][\u001b[38;5;28mself\u001b[39m\u001b[38;5;241m.\u001b[39mtag_to_idx[curr_tag]]\u001b[38;5;241m*\u001b[39m\u001b[38;5;28;43mself\u001b[39;49m\u001b[38;5;241;43m.\u001b[39;49m\u001b[43memission_matrix\u001b[49m[\u001b[38;5;28mself\u001b[39m\u001b[38;5;241m.\u001b[39mword_to_idx[curr_ob]][\u001b[38;5;28mself\u001b[39m\u001b[38;5;241m.\u001b[39mtag_to_idx[curr_tag]]\u001b[38;5;241m*\u001b[39mviterbi[\u001b[38;5;28mself\u001b[39m\u001b[38;5;241m.\u001b[39mtag_to_idx[prev_tag]][i\u001b[38;5;241m-\u001b[39m\u001b[38;5;241m1\u001b[39m]\n\u001b[0;32m    139\u001b[0m     \u001b[38;5;28;01mif\u001b[39;00m temp\u001b[38;5;241m>\u001b[39mmax_prob:\n\u001b[0;32m    140\u001b[0m         max_prob\u001b[38;5;241m=\u001b[39mtemp\n",
      "\u001b[1;31mKeyboardInterrupt\u001b[0m: "
     ]
    }
   ],
   "source": [
    "\n",
    "# models=[]\n",
    "# for i in range(2,11):\n",
    "#     model=HMM_model()\n",
    "#     model.train_model(sentences_original, i)\n",
    "#     models.append(model)\n",
    "#     print(\"Accuracy of k = \", i,\" is = \", accuracy_calculator(model.confusion_matrix))\n"
   ]
  },
  {
   "cell_type": "code",
   "execution_count": 156,
   "metadata": {},
   "outputs": [
    {
     "name": "stdout",
     "output_type": "stream",
     "text": [
      "recall :  [1.0, 0.9909063706493257, 0.9300074757401345, 0.8145029323586673, 0.905909712722298, 0.9531174447038668, 0.9994985260732557, 0.999598883850715, 0.8188267927950353, 0.990118214463579, 0.6401153240135438, 0.9382170511209308, 0.7786069651741292, 0.03391053391053392]\n",
      "[57340, 137019, 275558, 83721, 182750, 144766, 147565, 57340, 56239, 38151, 29829, 49334, 14874, 1386]\n"
     ]
    }
   ],
   "source": [
    "print(\"recall : \", recall(confusion_matrix))\n",
    "print(count_of_each_tag)"
   ]
  },
  {
   "cell_type": "code",
   "execution_count": 76,
   "metadata": {},
   "outputs": [
    {
     "name": "stdout",
     "output_type": "stream",
     "text": [
      "precision :  [1.0, 0.941530812257972, 0.8986341991959168, 0.879624516841524, 0.9668998128263225, 0.8679951446489986, 0.9779384563645536, 0.8877961901811987, 0.9195839391566939, 0.9899966655551851, 0.7854426002766252, 0.9751655629139073, 0.9314671814671814, 0.04]\n"
     ]
    }
   ],
   "source": [
    "print(\"precision : \", precision(confusion_matrix))"
   ]
  },
  {
   "cell_type": "code",
   "execution_count": 82,
   "metadata": {},
   "outputs": [
    {
     "name": "stdout",
     "output_type": "stream",
     "text": [
      "0.9285327995284794\n"
     ]
    }
   ],
   "source": [
    "print(accuracy_calculator(np_master_confusion_matrix))"
   ]
  },
  {
   "cell_type": "code",
   "execution_count": 83,
   "metadata": {},
   "outputs": [
    {
     "data": {
      "image/png": "[encoded data removed]",
      "text/plain": [
       "<Figure size 432x288 with 2 Axes>"
      ]
     },
     "metadata": {
      "needs_background": "light"
     },
     "output_type": "display_data"
    },
    {
     "name": "stdout",
     "output_type": "stream",
     "text": [
      "None\n",
      "{'<start>': 0, 'DET': 1, 'NOUN': 2, 'ADJ': 3, 'VERB': 4, 'ADP': 5, '.': 6, '<end>': 7, 'ADV': 8, 'CONJ': 9, 'PRT': 10, 'PRON': 11, 'NUM': 12, 'X': 13}\n"
     ]
    }
   ],
   "source": [
    "print(heatmap(np_master_confusion_matrix))\n",
    "print(master_tag_to_idx)"
   ]
  },
  {
   "cell_type": "code",
   "execution_count": 19,
   "metadata": {},
   "outputs": [
    {
     "name": "stdout",
     "output_type": "stream",
     "text": [
      "['<start>', 'ADP', 'PRON', 'VERB', 'ADJ', 'VERB', '.', 'PRON', 'VERB', 'PRON', '.', '<end>']\n"
     ]
    }
   ],
   "source": [
    "input_sentence1=[\"<start>\", \"Though\",\"he\",\"was\",\"good\",\"looking\",\",\",\"she\",\"rejected\",\"him\", \".\", \"<end>\"]\n",
    "tags_output= models[4].HMM_logic(input_sentence1)\n",
    "print(tags_output)"
   ]
  },
  {
   "cell_type": "code",
   "execution_count": 23,
   "metadata": {},
   "outputs": [
    {
     "ename": "SyntaxError",
     "evalue": "invalid syntax (34197387.py, line 5)",
     "output_type": "error",
     "traceback": [
      "\u001b[0;36m  Cell \u001b[0;32mIn[23], line 5\u001b[0;36m\u001b[0m\n\u001b[0;31m    print((s[i],tags_output[i]) for i in range len(s))\u001b[0m\n\u001b[0m                                               ^\u001b[0m\n\u001b[0;31mSyntaxError\u001b[0m\u001b[0;31m:\u001b[0m invalid syntax\n"
     ]
    }
   ],
   "source": [
    "s = input().split(\" \")\n",
    "s=[\"<start>\"]+s+[\"<end>\"]\n",
    "print(s)\n",
    "tags_output= models[4].HMM_logic(s)\n",
    "p=[(s[i],tags_output[i]) for i in range(len(s))]\n",
    "print(p)"
   ]
  },
  {
   "cell_type": "code",
   "execution_count": null,
   "metadata": {},
   "outputs": [],
   "source": []
  }
 ],
 "metadata": {
  "kernelspec": {
   "display_name": "Python 3",
   "language": "python",
   "name": "python3"
  },
  "language_info": {
   "codemirror_mode": {
    "name": "ipython",
    "version": 3
   },
   "file_extension": ".py",
   "mimetype": "text/x-python",
   "name": "python",
   "nbconvert_exporter": "python",
   "pygments_lexer": "ipython3",
   "version": "3.8.5"
  }
 },
 "nbformat": 4,
 "nbformat_minor": 2
}
